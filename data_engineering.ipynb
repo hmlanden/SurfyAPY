{
 "cells": [
  {
   "cell_type": "code",
   "execution_count": 1,
   "metadata": {},
   "outputs": [],
   "source": [
    "# ----------------------------------------------------------------------\n",
    "# Step 1: Import all necessary modules for data import and cleaning\n",
    "# ----------------------------------------------------------------------\n",
    "import pandas as pd\n",
    "import os"
   ]
  },
  {
   "cell_type": "code",
   "execution_count": 2,
   "metadata": {},
   "outputs": [],
   "source": [
    "# ----------------------------------------------------------------------\n",
    "# Step 2: Import data for cleaning\n",
    "# ----------------------------------------------------------------------\n",
    "# import Hawaii stations (no missing data)\n",
    "hawaii_stations_df = pd.read_csv(os.path.join('Resources','hawaii_stations.csv'))\n",
    "\n",
    "# import Hawaii measurements\n",
    "hawaii_measurements_df = pd.read_csv(os.path.join('Resources','hawaii_measurements.csv'))"
   ]
  },
  {
   "cell_type": "code",
   "execution_count": 3,
   "metadata": {},
   "outputs": [],
   "source": [
    "# ----------------------------------------------------------------------\n",
    "# Step 3: Review and clean data, then export cleaned data into CSV\n",
    "# ----------------------------------------------------------------------\n",
    "# Step 3.1: Clean measurement data\n",
    "\n",
    "# drop any null precipitation values (can't reasonably assume they'd be 0)\n",
    "hawaii_measurements_df.dropna(axis=0, how='any', inplace=True)\n",
    "\n",
    "# reset index\n",
    "hawaii_measurements_df.reset_index(inplace=True)\n",
    "\n",
    "# rename columns\n",
    "hawaii_measurements_df.rename(columns = {'index':'id', \n",
    "                                         'prcp':'precipitation',\n",
    "                                         'tobs':'temp'},\n",
    "                              inplace=True)\n",
    "\n",
    "# make sure precipitation is rounded to 2 decimal places\n",
    "hawaii_measurements_df['precipitation'] = hawaii_measurements_df['precipitation'].round(decimals=2)\n",
    "\n",
    "# export cleaned data to a CSV\n",
    "hawaii_measurements_df.to_csv(os.path.join('Resources',\n",
    "                                           'clean_hawaii_measurements.csv'))"
   ]
  },
  {
   "cell_type": "code",
   "execution_count": 4,
   "metadata": {},
   "outputs": [],
   "source": [
    "# Step 3.1: Clean station data\n",
    "# remove redundant information from station names (, HI US)\n",
    "hawaii_stations_df['name'] = hawaii_stations_df['name'].str.split(',').str.get(0)\n",
    "\n",
    "# round lat and long to 4 decimal places\n",
    "hawaii_stations_df['latitude'] = hawaii_stations_df['latitude'].round(decimals=4)\n",
    "hawaii_stations_df['longitude'] = hawaii_stations_df['longitude'].round(decimals=4)\n",
    "\n",
    "# make sure elevation data points are all floats\n",
    "hawaii_stations_df['elevation'] = hawaii_stations_df['elevation'].astype(float)\n",
    "\n",
    "# reset index and rename id to create primary key column\n",
    "hawaii_stations_df.reset_index().rename(columns={'index':'id'}, inplace=True)\n",
    "\n",
    "# export cleaned data to a CSV\n",
    "hawaii_stations_df.to_csv(os.path.join('Resources',\n",
    "                                       'clean_hawaii_stations.csv'))"
   ]
  }
 ],
 "metadata": {
  "kernelspec": {
   "display_name": "Python [conda env:PythonData]",
   "language": "python",
   "name": "conda-env-PythonData-py"
  },
  "language_info": {
   "codemirror_mode": {
    "name": "ipython",
    "version": 3
   },
   "file_extension": ".py",
   "mimetype": "text/x-python",
   "name": "python",
   "nbconvert_exporter": "python",
   "pygments_lexer": "ipython3",
   "version": "3.6.4"
  }
 },
 "nbformat": 4,
 "nbformat_minor": 2
}
