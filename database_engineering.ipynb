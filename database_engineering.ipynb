{
 "cells": [
  {
   "cell_type": "markdown",
   "metadata": {},
   "source": [
    "Use SQLAlchemy to model your table schemas and create a sqlite database for your tables. You will need one table for measurements and one for stations.\n",
    "\n",
    "Create a Jupyter Notebook called database_engineering.ipynb and use this to complete all of your Database Engineering work.\n",
    "\n",
    "Use Pandas to read your cleaned measurements and stations CSV data.\n",
    "\n",
    "Use the engine and connection string to create a database called hawaii.sqlite.\n",
    "\n",
    "Use declarative_base and create ORM classes for each table.\n",
    "\n",
    "You will need a class for Measurement and for Station.\n",
    "\n",
    "Make sure to define your primary keys.\n",
    "\n",
    "Once you have your ORM classes defined, create the tables in the database using create_all."
   ]
  },
  {
   "cell_type": "code",
   "execution_count": 1,
   "metadata": {},
   "outputs": [],
   "source": [
    "# ----------------------------------------------------------------------\n",
    "# Step 1: Import all necessary modules for database engineering and set\n",
    "# up SQLAlchemy base and engine\n",
    "# ----------------------------------------------------------------------\n",
    "import pandas as pd\n",
    "\n",
    "# set up sqlalchemy engine, data types, and base\n",
    "from sqlalchemy import create_engine\n",
    "engine = create_engine('sqlite:///hawaii.db')\n",
    "\n",
    "from sqlalchemy import Column, String, Float\n",
    "\n",
    "from sqlalchemy.ext.declarative import declarative_base\n",
    "Base = declarative_base()"
   ]
  },
  {
   "cell_type": "code",
   "execution_count": null,
   "metadata": {},
   "outputs": [],
   "source": [
    "# ----------------------------------------------------------------------\n",
    "# Step 2: Create necessary classes for parsing/reading the data\n",
    "# ----------------------------------------------------------------------"
   ]
  }
 ],
 "metadata": {
  "kernelspec": {
   "display_name": "Python [conda env:PythonData]",
   "language": "python",
   "name": "conda-env-PythonData-py"
  },
  "language_info": {
   "codemirror_mode": {
    "name": "ipython",
    "version": 3
   },
   "file_extension": ".py",
   "mimetype": "text/x-python",
   "name": "python",
   "nbconvert_exporter": "python",
   "pygments_lexer": "ipython3",
   "version": "3.6.4"
  }
 },
 "nbformat": 4,
 "nbformat_minor": 2
}
