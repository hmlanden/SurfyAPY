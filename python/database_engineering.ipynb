{
 "cells": [
  {
   "cell_type": "code",
   "execution_count": 1,
   "metadata": {},
   "outputs": [],
   "source": [
    "# ----------------------------------------------------------------------\n",
    "# Step 1: Import all necessary modules for database engineering and set\n",
    "# up SQLAlchemy base and engine\n",
    "# ----------------------------------------------------------------------\n",
    "import pandas as pd\n",
    "import os\n",
    "from sqlalchemy import Column, String, Integer, Float\n",
    "\n",
    "# set up sqlalchemy engine and connection\n",
    "from sqlalchemy import create_engine\n",
    "engine = create_engine('sqlite:///hawaii.sqlite')\n",
    "conn = engine.connect()\n",
    "\n",
    "# set up sqlalchemy base\n",
    "from sqlalchemy.ext.declarative import declarative_base\n",
    "Base = declarative_base()"
   ]
  },
  {
   "cell_type": "code",
   "execution_count": 2,
   "metadata": {},
   "outputs": [],
   "source": [
    "# ----------------------------------------------------------------------\n",
    "# Step 2: Create necessary classes for parsing/reading the data\n",
    "# ----------------------------------------------------------------------\n",
    "\n",
    "# class for the clean_hawaii_station.csv\n",
    "class Station(Base):\n",
    "    __tablename__ = 'stations'\n",
    "    id = Column(Integer, primary_key=True)\n",
    "    station = Column(String(11))\n",
    "    name = Column(String(50))\n",
    "    latitude = Column(Float())\n",
    "    longitude = Column(Float())\n",
    "    elevation = Column(Float())\n",
    "    \n",
    "    def __repr__(self):\n",
    "        return f\"id={self.id}, station ID={self.name},\\\n",
    "                 station name={self.name}, latitude={self.latitude},\\\n",
    "                 longitude={self.longitude}, elevation={self.elevation}\"\n",
    "\n",
    "# class for the clean_hawaii_measurement.csv\n",
    "class Measurement(Base):\n",
    "    __tablename__ = 'measurements'\n",
    "    id = Column(Integer, primary_key=True)\n",
    "    station = Column(String(11))\n",
    "    date = Column(String(11))\n",
    "    precipitation = Column(Float())\n",
    "    temp = Column(Integer)\n",
    "\n",
    "    def __repr__(self):\n",
    "        return f\"id={self.id}, station={self.station}, date ={self.date},\\\n",
    "                 precipitation(in)={self.precipitation},\\\n",
    "                 temperature(Fahrenheit)={self.temp}\"\n",
    "\n",
    "# add both tables to the database\n",
    "Base.metadata.create_all(engine)"
   ]
  },
  {
   "cell_type": "code",
   "execution_count": 3,
   "metadata": {},
   "outputs": [],
   "source": [
    "# ----------------------------------------------------------------------\n",
    "# Step 3: import both CSVs and change to dict::records. \n",
    "# Note: Will reformat date as datetime object for ease of analysis\n",
    "# ----------------------------------------------------------------------\n",
    "\n",
    "# read in stations csv\n",
    "hawaii_stations_df = pd.read_csv(os.path.join('Resources', \n",
    "                                              'clean_hawaii_stations.csv'))\n",
    "hawaii_stations_dict = hawaii_stations_df.to_dict(orient='records')\n",
    "\n",
    "# read in measurements csv and make sure to fix the types\n",
    "hawaii_measurements_df = pd.read_csv(os.path.join('Resources',\n",
    "                                                  'clean_hawaii_measurements.csv'))\n",
    "hawaii_measurements_dict = hawaii_measurements_df.to_dict(orient='records')"
   ]
  },
  {
   "cell_type": "code",
   "execution_count": 4,
   "metadata": {},
   "outputs": [],
   "source": [
    "# used for testing\n",
    "#Station.__table__.drop(engine)\n",
    "#Measurement.__table__.drop(engine)"
   ]
  },
  {
   "cell_type": "code",
   "execution_count": 5,
   "metadata": {},
   "outputs": [
    {
     "data": {
      "text/plain": [
       "<sqlalchemy.engine.result.ResultProxy at 0x11395b1d0>"
      ]
     },
     "execution_count": 5,
     "metadata": {},
     "output_type": "execute_result"
    }
   ],
   "source": [
    "# ----------------------------------------------------------------------\n",
    "# Step 4: Read all the data into the database\n",
    "# ----------------------------------------------------------------------\n",
    "conn.execute(Station.__table__.insert(), hawaii_stations_dict)\n",
    "conn.execute(Measurement.__table__.insert(), hawaii_measurements_dict)"
   ]
  }
 ],
 "metadata": {
  "kernelspec": {
   "display_name": "Python [conda env:PythonData]",
   "language": "python",
   "name": "conda-env-PythonData-py"
  },
  "language_info": {
   "codemirror_mode": {
    "name": "ipython",
    "version": 3
   },
   "file_extension": ".py",
   "mimetype": "text/x-python",
   "name": "python",
   "nbconvert_exporter": "python",
   "pygments_lexer": "ipython3",
   "version": "3.6.4"
  }
 },
 "nbformat": 4,
 "nbformat_minor": 2
}
